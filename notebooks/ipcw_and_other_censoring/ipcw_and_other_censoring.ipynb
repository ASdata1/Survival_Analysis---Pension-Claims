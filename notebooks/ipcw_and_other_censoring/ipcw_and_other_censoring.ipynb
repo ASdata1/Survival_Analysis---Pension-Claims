{
 "cells": [
  {
   "cell_type": "code",
   "execution_count": null,
   "id": "aa078ed2",
   "metadata": {},
   "outputs": [],
   "source": [
    "import pandas as pd\n",
    "from lifelines import KaplanMeierFitter\n",
    "import numpy as np\n",
    "import os\n",
    "import matplotlib.pyplot as plt\n",
    "from sklearn.model_selection import train_test_split\n",
    "\n",
    "\n"
   ]
  },
  {
   "cell_type": "code",
   "execution_count": 2,
   "id": "a8fc51d6",
   "metadata": {},
   "outputs": [
    {
     "name": "stdout",
     "output_type": "stream",
     "text": [
      "Censoring rate: 0.4292\n"
     ]
    },
    {
     "data": {
      "text/html": [
       "<div>\n",
       "<style scoped>\n",
       "    .dataframe tbody tr th:only-of-type {\n",
       "        vertical-align: middle;\n",
       "    }\n",
       "\n",
       "    .dataframe tbody tr th {\n",
       "        vertical-align: top;\n",
       "    }\n",
       "\n",
       "    .dataframe thead th {\n",
       "        text-align: right;\n",
       "    }\n",
       "</style>\n",
       "<table border=\"1\" class=\"dataframe\">\n",
       "  <thead>\n",
       "    <tr style=\"text-align: right;\">\n",
       "      <th></th>\n",
       "      <th>id</th>\n",
       "      <th>age_at_entry</th>\n",
       "      <th>income_level</th>\n",
       "      <th>health_score</th>\n",
       "      <th>pension_contrib_rate</th>\n",
       "      <th>true_event_time</th>\n",
       "      <th>censor_time</th>\n",
       "      <th>time_to_event</th>\n",
       "      <th>event_observed</th>\n",
       "    </tr>\n",
       "  </thead>\n",
       "  <tbody>\n",
       "    <tr>\n",
       "      <th>0</th>\n",
       "      <td>1</td>\n",
       "      <td>53</td>\n",
       "      <td>36794.48</td>\n",
       "      <td>78.4</td>\n",
       "      <td>0.052</td>\n",
       "      <td>8.653</td>\n",
       "      <td>7.657</td>\n",
       "      <td>7.657</td>\n",
       "      <td>0</td>\n",
       "    </tr>\n",
       "    <tr>\n",
       "      <th>1</th>\n",
       "      <td>2</td>\n",
       "      <td>39</td>\n",
       "      <td>45557.62</td>\n",
       "      <td>62.0</td>\n",
       "      <td>0.072</td>\n",
       "      <td>32.314</td>\n",
       "      <td>11.618</td>\n",
       "      <td>11.618</td>\n",
       "      <td>0</td>\n",
       "    </tr>\n",
       "    <tr>\n",
       "      <th>2</th>\n",
       "      <td>3</td>\n",
       "      <td>32</td>\n",
       "      <td>35686.13</td>\n",
       "      <td>52.1</td>\n",
       "      <td>0.048</td>\n",
       "      <td>19.388</td>\n",
       "      <td>25.000</td>\n",
       "      <td>19.388</td>\n",
       "      <td>1</td>\n",
       "    </tr>\n",
       "    <tr>\n",
       "      <th>3</th>\n",
       "      <td>4</td>\n",
       "      <td>45</td>\n",
       "      <td>70045.55</td>\n",
       "      <td>75.5</td>\n",
       "      <td>0.080</td>\n",
       "      <td>34.158</td>\n",
       "      <td>25.000</td>\n",
       "      <td>25.000</td>\n",
       "      <td>0</td>\n",
       "    </tr>\n",
       "    <tr>\n",
       "      <th>4</th>\n",
       "      <td>5</td>\n",
       "      <td>43</td>\n",
       "      <td>49361.51</td>\n",
       "      <td>86.3</td>\n",
       "      <td>0.054</td>\n",
       "      <td>15.370</td>\n",
       "      <td>25.000</td>\n",
       "      <td>15.370</td>\n",
       "      <td>1</td>\n",
       "    </tr>\n",
       "  </tbody>\n",
       "</table>\n",
       "</div>"
      ],
      "text/plain": [
       "   id  age_at_entry  income_level  health_score  pension_contrib_rate  \\\n",
       "0   1            53      36794.48          78.4                 0.052   \n",
       "1   2            39      45557.62          62.0                 0.072   \n",
       "2   3            32      35686.13          52.1                 0.048   \n",
       "3   4            45      70045.55          75.5                 0.080   \n",
       "4   5            43      49361.51          86.3                 0.054   \n",
       "\n",
       "   true_event_time  censor_time  time_to_event  event_observed  \n",
       "0            8.653        7.657          7.657               0  \n",
       "1           32.314       11.618         11.618               0  \n",
       "2           19.388       25.000         19.388               1  \n",
       "3           34.158       25.000         25.000               0  \n",
       "4           15.370       25.000         15.370               1  "
      ]
     },
     "execution_count": 2,
     "metadata": {},
     "output_type": "execute_result"
    }
   ],
   "source": [
    "# ensure results folder exists\n",
    "os.makedirs(\"data/censoring_methods\", exist_ok=True)\n",
    "\n",
    "# load synthetic data\n",
    "df = pd.read_csv(\"C:\\\\Users\\\\04ama\\\\OneDrive\\\\pension survival analysis\\\\data\\\\synthetic_survival_data.csv\")\n",
    "\n",
    "print(\"Censoring rate:\", 1 - df[\"event_observed\"].mean())\n",
    "df.head()"
   ]
  },
  {
   "cell_type": "code",
   "execution_count": 3,
   "id": "cf1be24b",
   "metadata": {},
   "outputs": [
    {
     "name": "stdout",
     "output_type": "stream",
     "text": [
      "Saved: data/censoring_methods/data_zero.csv\n"
     ]
    }
   ],
   "source": [
    "df_zero = df.copy()\n",
    "df_zero[\"method\"] = \"zero\"\n",
    "df_zero.to_csv(\"data/censoring_methods/data_zero.csv\", index=False)\n",
    "print(\"Saved:\", \"data/censoring_methods/data_zero.csv\")\n"
   ]
  },
  {
   "cell_type": "code",
   "execution_count": 4,
   "id": "d2302825",
   "metadata": {},
   "outputs": [
    {
     "name": "stdout",
     "output_type": "stream",
     "text": [
      "Saved: data/censoring_methods/data_discard.csv\n",
      "Discard weights - Events (1): 2854\n",
      "Discard weights - Censored (0): 2146\n"
     ]
    }
   ],
   "source": [
    "df_discard = df.copy()  # Keep all data (both censored and uncensored)\n",
    "df_discard[\"method\"] = \"discard\"\n",
    "\n",
    "# Add discard weights: 1 for events, 0 for censored\n",
    "df_discard[\"discard_weight\"] = df_discard[\"event_observed\"].astype(float)  # 1 for events, 0 for censored\n",
    "\n",
    "df_discard.to_csv(\"data/censoring_methods/data_discard.csv\", index=False)\n",
    "print(\"Saved:\", \"data/censoring_methods/data_discard.csv\")\n",
    "\n",
    "# Check the weights\n",
    "print(f\"Discard weights - Events (1): {(df_discard['discard_weight'] == 1).sum()}\")\n",
    "print(f\"Discard weights - Censored (0): {(df_discard['discard_weight'] == 0).sum()}\")"
   ]
  },
  {
   "cell_type": "code",
   "execution_count": null,
   "id": "0c5ea8fc",
   "metadata": {},
   "outputs": [
    {
     "name": "stdout",
     "output_type": "stream",
     "text": [
      "Training set: 3500 observations\n",
      "Test set: 1500 observations\n",
      "Saved: data/censoring_methods/data_ipcw.csv\n",
      "✅ Proper IPCW weights (fitted on training only):\n",
      "Weight stats: Min=1.0000, Max=2.2453, Mean=1.2335\n",
      "Training weights range: 1.0092 to 2.2453\n",
      "Test weights range: 1.0020 to 2.2453\n",
      "Negative weights: 0\n",
      "Zero weights: 0\n"
     ]
    }
   ],
   "source": [
    "# First add the train_test_split import at the top of your notebook if not already there\n",
    "\n",
    "\n",
    "# ============ PROPER IPCW: FIT ON TRAINING, APPLY TO TEST ============\n",
    "\n",
    "# Split the data first (same split as your evaluation will use)\n",
    "df_train, df_test = train_test_split(df, test_size=0.3, random_state=42, stratify=df[\"event_observed\"])\n",
    "\n",
    "print(f\"Training set: {len(df_train)} observations\")\n",
    "print(f\"Test set: {len(df_test)} observations\")\n",
    "\n",
    "# FIT CENSORING MODEL ON TRAINING DATA ONLY\n",
    "km_c_train = KaplanMeierFitter()\n",
    "km_c_train.fit(\n",
    "    durations=df_train[\"time_to_event\"],\n",
    "    event_observed=1 - df_train[\"event_observed\"]  # flip: 1=censored\n",
    ")\n",
    "\n",
    "# CALCULATE IPCW FOR TRAINING SET\n",
    "G_hat_train = km_c_train.survival_function_at_times(df_train[\"time_to_event\"]).values\n",
    "ipcw_train = 1 / np.clip(G_hat_train, 1e-4, None)\n",
    "\n",
    "df_ipcw_train = df_train.assign(ipcw=ipcw_train)\n",
    "\n",
    "# Clean training weights\n",
    "df_ipcw_train[\"ipcw\"] = df_ipcw_train[\"ipcw\"].abs()\n",
    "df_ipcw_train[\"ipcw\"] = df_ipcw_train[\"ipcw\"].clip(lower=1e-3)\n",
    "df_ipcw_train[\"ipcw\"] = np.where(\n",
    "    df_ipcw_train[\"event_observed\"] == 1,\n",
    "    df_ipcw_train[\"ipcw\"],\n",
    "    1.0\n",
    ")\n",
    "\n",
    "# APPLY TRAINED CENSORING MODEL TO TEST SET\n",
    "G_hat_test = km_c_train.survival_function_at_times(df_test[\"time_to_event\"]).values\n",
    "ipcw_test = 1 / np.clip(G_hat_test, 1e-4, None)\n",
    "\n",
    "df_ipcw_test = df_test.assign(ipcw=ipcw_test)\n",
    "\n",
    "# Clean test weights\n",
    "df_ipcw_test[\"ipcw\"] = df_ipcw_test[\"ipcw\"].abs()\n",
    "df_ipcw_test[\"ipcw\"] = df_ipcw_test[\"ipcw\"].clip(lower=1e-3)\n",
    "df_ipcw_test[\"ipcw\"] = np.where(\n",
    "    df_ipcw_test[\"event_observed\"] == 1,\n",
    "    df_ipcw_test[\"ipcw\"],\n",
    "    1.0\n",
    ")\n",
    "\n",
    "# COMBINE AND SAVE\n",
    "df_ipcw = pd.concat([df_ipcw_train, df_ipcw_test], ignore_index=True)\n",
    "df_ipcw[\"method\"] = \"ipcw\"\n",
    "\n",
    "df_ipcw.to_csv(\"data/censoring_methods/data_ipcw.csv\", index=False)\n",
    "print(\"Saved:\", \"data/censoring_methods/data_ipcw.csv\")\n",
    "\n",
    "# Check the weights\n",
    "print(\"✅ Proper IPCW weights (fitted on training only):\")\n",
    "print(f\"Weight stats: Min={df_ipcw['ipcw'].min():.4f}, Max={df_ipcw['ipcw'].max():.4f}, Mean={df_ipcw['ipcw'].mean():.4f}\")\n",
    "print(f\"Training weights range: {df_ipcw_train['ipcw'][df_ipcw_train['event_observed']==1].min():.4f} to {df_ipcw_train['ipcw'][df_ipcw_train['event_observed']==1].max():.4f}\")\n",
    "print(f\"Test weights range: {df_ipcw_test['ipcw'][df_ipcw_test['event_observed']==1].min():.4f} to {df_ipcw_test['ipcw'][df_ipcw_test['event_observed']==1].max():.4f}\")\n",
    "print(f\"Negative weights: {(df_ipcw['ipcw'] < 0).sum()}\")\n",
    "print(f\"Zero weights: {(df_ipcw['ipcw'] == 0).sum()}\")"
   ]
  },
  {
   "cell_type": "code",
   "execution_count": 6,
   "id": "bc7b6cf9",
   "metadata": {},
   "outputs": [
    {
     "name": "stdout",
     "output_type": "stream",
     "text": [
      "Saved: data/censoring_methods/summary_overview.csv\n"
     ]
    }
   ],
   "source": [
    "summary = pd.DataFrame({\n",
    "    \"Method\": [\"zero\", \"discard\", \"ipcw\"],\n",
    "    \"Rows\": [len(df_zero), len(df_discard), len(df_ipcw)],\n",
    "    \"Censoring rate\": [\n",
    "        1 - df_zero[\"event_observed\"].mean(),\n",
    "        1 - df_discard[\"event_observed\"].mean(),\n",
    "        1 - df_ipcw[\"event_observed\"].mean()\n",
    "    ]\n",
    "})\n",
    "summary\n",
    "\n",
    "summary.to_csv(\"data/censoring_methods/summary_overview.csv\", index=False)\n",
    "print(\"Saved:\", \"data/censoring_methods/summary_overview.csv\")\n"
   ]
  }
 ],
 "metadata": {
  "kernelspec": {
   "display_name": "base",
   "language": "python",
   "name": "python3"
  },
  "language_info": {
   "codemirror_mode": {
    "name": "ipython",
    "version": 3
   },
   "file_extension": ".py",
   "mimetype": "text/x-python",
   "name": "python",
   "nbconvert_exporter": "python",
   "pygments_lexer": "ipython3",
   "version": "3.12.7"
  }
 },
 "nbformat": 4,
 "nbformat_minor": 5
}
