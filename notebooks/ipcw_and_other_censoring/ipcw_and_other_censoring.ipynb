{
 "cells": [
  {
   "cell_type": "code",
   "execution_count": 1,
   "id": "aa078ed2",
   "metadata": {},
   "outputs": [],
   "source": [
    "import pandas as pd\n",
    "from lifelines import KaplanMeierFitter\n",
    "import numpy as np\n",
    "import os\n",
    "import matplotlib.pyplot as plt\n",
    "\n",
    "\n"
   ]
  },
  {
   "cell_type": "code",
   "execution_count": 2,
   "id": "a8fc51d6",
   "metadata": {},
   "outputs": [
    {
     "name": "stdout",
     "output_type": "stream",
     "text": [
      "Censoring rate: 0.33640000000000003\n"
     ]
    },
    {
     "data": {
      "text/html": [
       "<div>\n",
       "<style scoped>\n",
       "    .dataframe tbody tr th:only-of-type {\n",
       "        vertical-align: middle;\n",
       "    }\n",
       "\n",
       "    .dataframe tbody tr th {\n",
       "        vertical-align: top;\n",
       "    }\n",
       "\n",
       "    .dataframe thead th {\n",
       "        text-align: right;\n",
       "    }\n",
       "</style>\n",
       "<table border=\"1\" class=\"dataframe\">\n",
       "  <thead>\n",
       "    <tr style=\"text-align: right;\">\n",
       "      <th></th>\n",
       "      <th>id</th>\n",
       "      <th>age_at_entry</th>\n",
       "      <th>income_level</th>\n",
       "      <th>health_score</th>\n",
       "      <th>pension_contrib_rate</th>\n",
       "      <th>true_event_time</th>\n",
       "      <th>censor_time</th>\n",
       "      <th>time_to_event</th>\n",
       "      <th>event_observed</th>\n",
       "    </tr>\n",
       "  </thead>\n",
       "  <tbody>\n",
       "    <tr>\n",
       "      <th>0</th>\n",
       "      <td>1</td>\n",
       "      <td>53</td>\n",
       "      <td>36794.48</td>\n",
       "      <td>78.4</td>\n",
       "      <td>0.052</td>\n",
       "      <td>8.653</td>\n",
       "      <td>25.000</td>\n",
       "      <td>8.653</td>\n",
       "      <td>1</td>\n",
       "    </tr>\n",
       "    <tr>\n",
       "      <th>1</th>\n",
       "      <td>2</td>\n",
       "      <td>39</td>\n",
       "      <td>45557.62</td>\n",
       "      <td>62.0</td>\n",
       "      <td>0.072</td>\n",
       "      <td>32.314</td>\n",
       "      <td>25.000</td>\n",
       "      <td>25.000</td>\n",
       "      <td>0</td>\n",
       "    </tr>\n",
       "    <tr>\n",
       "      <th>2</th>\n",
       "      <td>3</td>\n",
       "      <td>32</td>\n",
       "      <td>35686.13</td>\n",
       "      <td>52.1</td>\n",
       "      <td>0.048</td>\n",
       "      <td>19.388</td>\n",
       "      <td>1.635</td>\n",
       "      <td>1.635</td>\n",
       "      <td>0</td>\n",
       "    </tr>\n",
       "    <tr>\n",
       "      <th>3</th>\n",
       "      <td>4</td>\n",
       "      <td>45</td>\n",
       "      <td>70045.55</td>\n",
       "      <td>75.5</td>\n",
       "      <td>0.080</td>\n",
       "      <td>34.158</td>\n",
       "      <td>12.475</td>\n",
       "      <td>12.475</td>\n",
       "      <td>0</td>\n",
       "    </tr>\n",
       "    <tr>\n",
       "      <th>4</th>\n",
       "      <td>5</td>\n",
       "      <td>43</td>\n",
       "      <td>49361.51</td>\n",
       "      <td>86.3</td>\n",
       "      <td>0.054</td>\n",
       "      <td>15.370</td>\n",
       "      <td>6.202</td>\n",
       "      <td>6.202</td>\n",
       "      <td>0</td>\n",
       "    </tr>\n",
       "  </tbody>\n",
       "</table>\n",
       "</div>"
      ],
      "text/plain": [
       "   id  age_at_entry  income_level  health_score  pension_contrib_rate  \\\n",
       "0   1            53      36794.48          78.4                 0.052   \n",
       "1   2            39      45557.62          62.0                 0.072   \n",
       "2   3            32      35686.13          52.1                 0.048   \n",
       "3   4            45      70045.55          75.5                 0.080   \n",
       "4   5            43      49361.51          86.3                 0.054   \n",
       "\n",
       "   true_event_time  censor_time  time_to_event  event_observed  \n",
       "0            8.653       25.000          8.653               1  \n",
       "1           32.314       25.000         25.000               0  \n",
       "2           19.388        1.635          1.635               0  \n",
       "3           34.158       12.475         12.475               0  \n",
       "4           15.370        6.202          6.202               0  "
      ]
     },
     "execution_count": 2,
     "metadata": {},
     "output_type": "execute_result"
    }
   ],
   "source": [
    "# ensure results folder exists\n",
    "os.makedirs(\"data/censoring_methods\", exist_ok=True)\n",
    "\n",
    "# load synthetic data\n",
    "df = pd.read_csv(\"C:\\\\Users\\\\04ama\\\\OneDrive\\\\pension survival analysis\\\\data\\\\synthetic_survival_data.csv\")\n",
    "\n",
    "print(\"Censoring rate:\", 1 - df[\"event_observed\"].mean())\n",
    "df.head()"
   ]
  },
  {
   "cell_type": "code",
   "execution_count": 3,
   "id": "cf1be24b",
   "metadata": {},
   "outputs": [
    {
     "name": "stdout",
     "output_type": "stream",
     "text": [
      "Saved: data/censoring_methods/data_zero.csv\n"
     ]
    }
   ],
   "source": [
    "df_zero = df.copy()\n",
    "df_zero[\"method\"] = \"zero\"\n",
    "df_zero.to_csv(\"data/censoring_methods/data_zero.csv\", index=False)\n",
    "print(\"Saved:\", \"data/censoring_methods/data_zero.csv\")\n"
   ]
  },
  {
   "cell_type": "code",
   "execution_count": 4,
   "id": "d2302825",
   "metadata": {},
   "outputs": [
    {
     "name": "stdout",
     "output_type": "stream",
     "text": [
      "Saved: data/censoring_methods/data_discard.csv\n"
     ]
    }
   ],
   "source": [
    "df_discard = df[df[\"event_observed\"] == 1].copy()\n",
    "df_discard[\"method\"] = \"discard\"\n",
    "df_discard.to_csv(\"data/censoring_methods/data_discard.csv\", index=False)\n",
    "print(\"Saved:\", \"data/censoring_methods/data_discard.csv\")\n"
   ]
  },
  {
   "cell_type": "code",
   "execution_count": 5,
   "id": "0c5ea8fc",
   "metadata": {},
   "outputs": [
    {
     "name": "stdout",
     "output_type": "stream",
     "text": [
      "Saved: data/censoring_methods/data_ipcw.csv\n"
     ]
    }
   ],
   "source": [
    "km_c = KaplanMeierFitter()\n",
    "km_c.fit(\n",
    "    durations=df[\"time_to_event\"],\n",
    "    event_observed=1 - df[\"event_observed\"]  # flip: 1=censored\n",
    ")\n",
    "\n",
    "# estimated probability of NOT being censored at each observed time\n",
    "G_hat = km_c.survival_function_at_times(df[\"time_to_event\"]).values\n",
    "\n",
    "# inverse probability of censoring weights\n",
    "ipcw = 1 / np.clip(G_hat, 1e-4, None)\n",
    "ipcw = ipcw / ipcw.mean()  # stabilise mean≈1\n",
    "df_ipcw = df.assign(ipcw=ipcw)\n",
    "\n",
    "# censored patients get weight=0\n",
    "df_ipcw.loc[df_ipcw[\"event_observed\"] == 0, \"ipcw\"] = 0\n",
    "df_ipcw[\"method\"] = \"ipcw\"\n",
    "\n",
    "df_ipcw.to_csv(\"data/censoring_methods/data_ipcw.csv\", index=False)\n",
    "print(\"Saved:\", \"data/censoring_methods/data_ipcw.csv\")\n"
   ]
  },
  {
   "cell_type": "code",
   "execution_count": 6,
   "id": "77fb3c94",
   "metadata": {},
   "outputs": [
    {
     "data": {
      "image/png": "[encoded data removed]",
      "text/plain": [
       "<Figure size 1000x600 with 1 Axes>"
      ]
     },
     "metadata": {},
     "output_type": "display_data"
    }
   ],
   "source": [
    "#visualise the weights for ipcw method\n",
    "import matplotlib.pyplot as plt\n",
    "\n",
    "plt.figure(figsize=(10, 6))\n",
    "plt.hist(df_ipcw[\"ipcw\"], bins=30, alpha=0.7)\n",
    "plt.title(\"IPCW Weights Distribution\")\n",
    "plt.xlabel(\"IPCW Weight\")\n",
    "plt.ylabel(\"Frequency\")\n",
    "plt.grid()\n",
    "plt.show()\n"
   ]
  },
  {
   "cell_type": "code",
   "execution_count": 7,
   "id": "bc7b6cf9",
   "metadata": {},
   "outputs": [
    {
     "name": "stdout",
     "output_type": "stream",
     "text": [
      "Saved: data/censoring_methods/summary_overview.csv\n"
     ]
    }
   ],
   "source": [
    "summary = pd.DataFrame({\n",
    "    \"Method\": [\"zero\", \"discard\", \"ipcw\"],\n",
    "    \"Rows\": [len(df_zero), len(df_discard), len(df_ipcw)],\n",
    "    \"Censoring rate\": [\n",
    "        1 - df_zero[\"event_observed\"].mean(),\n",
    "        1 - df_discard[\"event_observed\"].mean(),\n",
    "        1 - df_ipcw[\"event_observed\"].mean()\n",
    "    ]\n",
    "})\n",
    "summary\n",
    "\n",
    "summary.to_csv(\"data/censoring_methods/summary_overview.csv\", index=False)\n",
    "print(\"Saved:\", \"data/censoring_methods/summary_overview.csv\")\n"
   ]
  }
 ],
 "metadata": {
  "kernelspec": {
   "display_name": "base",
   "language": "python",
   "name": "python3"
  },
  "language_info": {
   "codemirror_mode": {
    "name": "ipython",
    "version": 3
   },
   "file_extension": ".py",
   "mimetype": "text/x-python",
   "name": "python",
   "nbconvert_exporter": "python",
   "pygments_lexer": "ipython3",
   "version": "3.12.7"
  }
 },
 "nbformat": 4,
 "nbformat_minor": 5
}
